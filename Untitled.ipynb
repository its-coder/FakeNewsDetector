{
 "cells": [
  {
   "cell_type": "code",
   "execution_count": 6,
   "metadata": {},
   "outputs": [],
   "source": [
    "import pandas as pd\n",
    "from sklearn.feature_extraction.text import TfidfVectorizer\n",
    "from sklearn.linear_model import PassiveAggressiveClassifier\n",
    "from sklearn.model_selection import train_test_split\n",
    "from sklearn.metrics import accuracy_score, confusion_matrix\n",
    "from sklearn.model_selection import cross_val_score\n",
    "import pickle"
   ]
  },
  {
   "cell_type": "code",
   "execution_count": 7,
   "metadata": {},
   "outputs": [],
   "source": [
    "train_database = pd.read_csv('train.csv')\n",
    "#print(train_database)\n",
    "label_convert = {0: \"True\", 1: \"False\"}\n",
    "train_database['label'] = train_database['label'].replace(label_convert)\n",
    "#print(train_database)\n",
    "#print(train_database.label.value_counts())"
   ]
  },
  {
   "cell_type": "code",
   "execution_count": 8,
   "metadata": {},
   "outputs": [],
   "source": [
    "input_train, input_test, output_train, output_test = train_test_split(train_database['text'], train_database['label'], test_size = 0.25, random_state = 7, shuffle = True)\n",
    "vectorized_text = TfidfVectorizer(stop_words=\"english\", max_df = 0.75)"
   ]
  },
  {
   "cell_type": "code",
   "execution_count": 9,
   "metadata": {},
   "outputs": [],
   "source": [
    "vectorTrain = vectorized_text.fit_transform(input_train.values.astype('U'))\n",
    "vectorTest = vectorized_text.transform(input_test.values.astype('U'))"
   ]
  },
  {
   "cell_type": "code",
   "execution_count": 10,
   "metadata": {},
   "outputs": [
    {
     "data": {
      "text/plain": [
       "PassiveAggressiveClassifier(max_iter=100)"
      ]
     },
     "execution_count": 10,
     "metadata": {},
     "output_type": "execute_result"
    }
   ],
   "source": [
    "PasAggrClass = PassiveAggressiveClassifier(max_iter=100)\n",
    "PasAggrClass.fit(vectorTrain, output_train)"
   ]
  },
  {
   "cell_type": "code",
   "execution_count": 11,
   "metadata": {},
   "outputs": [],
   "source": [
    "output_predict = PasAggrClass.predict(vectorTest)\n",
    "model_score = accuracy_score(output_test, output_predict)\n",
    "#print(f'Accuracy of the model: {round(model_score*100, 2)}%')\n",
    "model_score_percentage = round(model_score*100, 2)"
   ]
  },
  {
   "cell_type": "code",
   "execution_count": 12,
   "metadata": {},
   "outputs": [],
   "source": [
    "train_database_real = pd.read_csv('True.csv')\n",
    "train_database_real['label'] = 'True'\n",
    "train_database_swap=[train_database_real['text'][i].replace('WASHINGTON (Reuters) - ','').replace('LONDON (Reuters) - ','').replace('(Reuters) - ','') for i in range(len(train_database_real['text']))]\n",
    "train_database_real['text'] = train_database_swap\n",
    "train_database_fake = pd.read_csv('Fake.csv')\n",
    "train_database_fake['label'] = 'False'\n",
    "train_database_final = pd.concat([train_database_real, train_database_fake]) \n",
    "train_database_final = train_database_final.drop(['subject', 'date'], axis = 1)"
   ]
  },
  {
   "cell_type": "code",
   "execution_count": 13,
   "metadata": {},
   "outputs": [
    {
     "name": "stdout",
     "output_type": "stream",
     "text": [
      "Paster your article here: \n",
      "\"WORLD’S MOST POPULAR Search Engine Places FICTIONAL Story At Top Of News Feed:”Melania Trump is Lonely, Racist and Obsessed With Michelle Obama”\",\"Google is the search engine the majority of people in the world go if they need to look up something. In fact, it is estimated that over 30 BILLION searches are performed on Google every month. Google now has a special feature for mobile users. When you go to search for a topic on Google, a news feed appears under the search bar, with what users expect to be the most popular current stories. But are they the most popular stories, or are they simply Google s contribution to the leftist propaganda machine? With all of the news breaking about Hillary s Uranium One deal with Russia, surely readers wouldn t expect to find some fictional story about Melania being a  racist ,  as the top story on Google s mobile newsfeed or would they?    Here s the story that appeared at the top of Google s news feed today:Newsweek: Melania Trump is lonely and obsessed with Michelle Obama. At least in Chimamanda Ngozi Adichie s version of events anyway.The Nigerian author has penned a short story for the The New York Times  style magazine, T, which paints the first lady referred to throughout only as  Mrs T as the reluctant wife of the president who displays an unease with her political fame. And she s a little bit racist, too.Adichie s  micronovel,  Janelle Asked to the Bedroom, envisions a conversation between a forlorn Trump and her pilates instructor Janelle. The story was published on the Times website and on the T magazine Instagram page.In the short story, Janelle is unusually called to join Mrs T in her bedroom, rather than her home gym, and is surprised to find the first lady looking  disheveled, her manner distracted. Adichie s fictional account also portrays Trump as envious of her predecessor s natural ease in the role of first lady. Mrs T shows Janelle a video she s been watching on YouTube of Michelle Obama visiting a classroom.\n"
     ]
    }
   ],
   "source": [
    "print(\"Paster your article here: \")\n",
    "userText = input()"
   ]
  },
  {
   "cell_type": "code",
   "execution_count": 14,
   "metadata": {},
   "outputs": [],
   "source": [
    "def searchForInterest(userText):\n",
    "    userText_slpit = userText.split()\n",
    "    politics_arr = [\"protest\", \"President\", \"officials\", \"Department\", \"House\", \"Parliament\", \"laws\", \"against\", \"politics\", \"police\"]\n",
    "    sports_arr = [\"match\", \"event\", \"game\", \"soccer\", \"football\", \"cricket\", \"tennis\", \"badminton\", \"olympics\", \"sport\"]\n",
    "    educ_arr = [\"school\", \"college\", \"university\", \"tuition\", \"study\", \"homework\", \"education\", \"rights\", \"teaching\", \"training\", \"tutors\", \"knowledge\", \"skill\", \"science\", \"math\", \"geography\", \"history\", \"civics\", \"subjects\"]\n",
    "    auto_arr = [\"car\", \"truck\", \"bike\", \"two-wheeler\", \"four-wheeler\", \"launch\", \"compact\", \"SUV\", \"transportation\"]\n",
    "    covid_arr = [\"pandemic\", \"covid\", \"coronavirus\", \"disease\", \"cases\", \"vaccine\", \"vaccination\", \"spread\", \"social\", \"distance\", \"COVID\", \"WHO\"]\n",
    "    mili_arr = [\"military\", \"force\", \"armed\", \"gun\", \"war\", \"kill\", \"dead\", \"alive\", \"injured\"]\n",
    "    UN_arr = [\"UN\", \"United\", \"nations\", \"organization\", \"General\", \"Assembly\", \"Secretariat\"]\n",
    "    if any(topic in userText for topic in politics_arr):\n",
    "        print(\"It seems your are interested in Politics. Have a look at some of these sites: \")\n",
    "    elif any(topic in userText for topic in sports_arr):\n",
    "        print(\"It seems your are interested in Sports. Have a look at some of these sites: \")\n",
    "    elif any(topic in userText for topic in educ_arr):\n",
    "        print(\"It seems your are interested in Education. Have a look at some of these sites: \")\n",
    "    elif any(topic in userText for topic in auto_arr):\n",
    "        print(\"It seems your are interested in Automobile. Have a look at some of these sites: \")\n",
    "    elif any(topic in userText for topic in covid_arr):\n",
    "        print(\"It seems your are interested in Covid_19. Have a look at some of these sites: \")\n",
    "    elif any(topic in userText for topic in mili_arr):\n",
    "        print(\"It seems your are interested in Military. Have a look at some of these sites: \")\n",
    "    elif any(topic in userText for topic in UN_arr):  \n",
    "        print(\"It seems your are interested in UN. Have a look at some of these sites: \")\n",
    "    else:\n",
    "        print(\"Sorry, we couldn't find any sites which you can view.\")\n",
    "    \n",
    "    "
   ]
  },
  {
   "cell_type": "code",
   "execution_count": 15,
   "metadata": {},
   "outputs": [],
   "source": [
    "def searchForLabels(userText):\n",
    "    print(userText)\n",
    "    vectorUserText = vectorized_text.transform([userText])\n",
    "    output_prediction_user = PasAggrClass.predict(vectorUserText)\n",
    "    searchForInterest(userText)\n",
    "    return output_prediction_user[0]"
   ]
  },
  {
   "cell_type": "code",
   "execution_count": 16,
   "metadata": {},
   "outputs": [
    {
     "name": "stdout",
     "output_type": "stream",
     "text": [
      "\"WORLD’S MOST POPULAR Search Engine Places FICTIONAL Story At Top Of News Feed:”Melania Trump is Lonely, Racist and Obsessed With Michelle Obama”\",\"Google is the search engine the majority of people in the world go if they need to look up something. In fact, it is estimated that over 30 BILLION searches are performed on Google every month. Google now has a special feature for mobile users. When you go to search for a topic on Google, a news feed appears under the search bar, with what users expect to be the most popular current stories. But are they the most popular stories, or are they simply Google s contribution to the leftist propaganda machine? With all of the news breaking about Hillary s Uranium One deal with Russia, surely readers wouldn t expect to find some fictional story about Melania being a  racist ,  as the top story on Google s mobile newsfeed or would they?    Here s the story that appeared at the top of Google s news feed today:Newsweek: Melania Trump is lonely and obsessed with Michelle Obama. At least in Chimamanda Ngozi Adichie s version of events anyway.The Nigerian author has penned a short story for the The New York Times  style magazine, T, which paints the first lady referred to throughout only as  Mrs T as the reluctant wife of the president who displays an unease with her political fame. And she s a little bit racist, too.Adichie s  micronovel,  Janelle Asked to the Bedroom, envisions a conversation between a forlorn Trump and her pilates instructor Janelle. The story was published on the Times website and on the T magazine Instagram page.In the short story, Janelle is unusually called to join Mrs T in her bedroom, rather than her home gym, and is surprised to find the first lady looking  disheveled, her manner distracted. Adichie s fictional account also portrays Trump as envious of her predecessor s natural ease in the role of first lady. Mrs T shows Janelle a video she s been watching on YouTube of Michelle Obama visiting a classroom.\n",
      "It seems your are interested in Sports. Have a look at some of these sites: \n"
     ]
    },
    {
     "data": {
      "text/plain": [
       "'False'"
      ]
     },
     "execution_count": 16,
     "metadata": {},
     "output_type": "execute_result"
    }
   ],
   "source": [
    "searchForLabels(userText)"
   ]
  },
  {
   "cell_type": "code",
   "execution_count": 25,
   "metadata": {},
   "outputs": [],
   "source": [
    "file = \"mymodel.pkl\"\n",
    "fileobj = open(file, 'wb')\n",
    "pickle.dump(PasAggrClass, fileobj)\n",
    "fileobj.close()\n",
    "#file = "
   ]
  },
  {
   "cell_type": "code",
   "execution_count": 26,
   "metadata": {},
   "outputs": [
    {
     "name": "stdout",
     "output_type": "stream",
     "text": [
      "0.9626923076923077\n"
     ]
    }
   ],
   "source": [
    "loaded_model = pickle.load(open(file, 'rb'))\n",
    "model_score = accuracy_score(output_test, output_predict)\n",
    "print(model_score)"
   ]
  },
  {
   "cell_type": "code",
   "execution_count": 30,
   "metadata": {},
   "outputs": [
    {
     "name": "stdout",
     "output_type": "stream",
     "text": [
      "Test score: 96.27 %\n"
     ]
    }
   ],
   "source": [
    "score = loaded_model.score(vectorTest, output_test)  \n",
    "# Print the Score\n",
    "print(\"Test score: {0:.2f} %\".format(100 * score))  "
   ]
  },
  {
   "cell_type": "code",
   "execution_count": null,
   "metadata": {},
   "outputs": [],
   "source": []
  }
 ],
 "metadata": {
  "kernelspec": {
   "display_name": "Python 3",
   "language": "python",
   "name": "python3"
  },
  "language_info": {
   "codemirror_mode": {
    "name": "ipython",
    "version": 3
   },
   "file_extension": ".py",
   "mimetype": "text/x-python",
   "name": "python",
   "nbconvert_exporter": "python",
   "pygments_lexer": "ipython3",
   "version": "3.8.3"
  }
 },
 "nbformat": 4,
 "nbformat_minor": 4
}
